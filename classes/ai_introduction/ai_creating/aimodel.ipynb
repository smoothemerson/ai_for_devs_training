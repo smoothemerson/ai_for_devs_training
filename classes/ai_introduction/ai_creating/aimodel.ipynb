{
 "cells": [
  {
   "cell_type": "code",
   "execution_count": 1,
   "id": "1eee08ff",
   "metadata": {},
   "outputs": [],
   "source": [
    "import pandas as pd\n",
    "\n",
    "from sklearn import datasets\n",
    "from sklearn.model_selection import train_test_split\n",
    "from sklearn.preprocessing import StandardScaler\n",
    "from sklearn.linear_model import LinearRegression"
   ]
  },
  {
   "cell_type": "code",
   "execution_count": 2,
   "id": "3c2bc70f",
   "metadata": {},
   "outputs": [
    {
     "data": {
      "text/plain": [
       "{'data': array([[   8.3252    ,   41.        ,    6.98412698, ...,    2.55555556,\n",
       "           37.88      , -122.23      ],\n",
       "        [   8.3014    ,   21.        ,    6.23813708, ...,    2.10984183,\n",
       "           37.86      , -122.22      ],\n",
       "        [   7.2574    ,   52.        ,    8.28813559, ...,    2.80225989,\n",
       "           37.85      , -122.24      ],\n",
       "        ...,\n",
       "        [   1.7       ,   17.        ,    5.20554273, ...,    2.3256351 ,\n",
       "           39.43      , -121.22      ],\n",
       "        [   1.8672    ,   18.        ,    5.32951289, ...,    2.12320917,\n",
       "           39.43      , -121.32      ],\n",
       "        [   2.3886    ,   16.        ,    5.25471698, ...,    2.61698113,\n",
       "           39.37      , -121.24      ]], shape=(20640, 8)),\n",
       " 'target': array([4.526, 3.585, 3.521, ..., 0.923, 0.847, 0.894], shape=(20640,)),\n",
       " 'frame': None,\n",
       " 'target_names': ['MedHouseVal'],\n",
       " 'feature_names': ['MedInc',\n",
       "  'HouseAge',\n",
       "  'AveRooms',\n",
       "  'AveBedrms',\n",
       "  'Population',\n",
       "  'AveOccup',\n",
       "  'Latitude',\n",
       "  'Longitude'],\n",
       " 'DESCR': '.. _california_housing_dataset:\\n\\nCalifornia Housing dataset\\n--------------------------\\n\\n**Data Set Characteristics:**\\n\\n:Number of Instances: 20640\\n\\n:Number of Attributes: 8 numeric, predictive attributes and the target\\n\\n:Attribute Information:\\n    - MedInc        median income in block group\\n    - HouseAge      median house age in block group\\n    - AveRooms      average number of rooms per household\\n    - AveBedrms     average number of bedrooms per household\\n    - Population    block group population\\n    - AveOccup      average number of household members\\n    - Latitude      block group latitude\\n    - Longitude     block group longitude\\n\\n:Missing Attribute Values: None\\n\\nThis dataset was obtained from the StatLib repository.\\nhttps://www.dcc.fc.up.pt/~ltorgo/Regression/cal_housing.html\\n\\nThe target variable is the median house value for California districts,\\nexpressed in hundreds of thousands of dollars ($100,000).\\n\\nThis dataset was derived from the 1990 U.S. census, using one row per census\\nblock group. A block group is the smallest geographical unit for which the U.S.\\nCensus Bureau publishes sample data (a block group typically has a population\\nof 600 to 3,000 people).\\n\\nA household is a group of people residing within a home. Since the average\\nnumber of rooms and bedrooms in this dataset are provided per household, these\\ncolumns may take surprisingly large values for block groups with few households\\nand many empty houses, such as vacation resorts.\\n\\nIt can be downloaded/loaded using the\\n:func:`sklearn.datasets.fetch_california_housing` function.\\n\\n.. rubric:: References\\n\\n- Pace, R. Kelley and Ronald Barry, Sparse Spatial Autoregressions,\\n  Statistics and Probability Letters, 33:291-297, 1997.\\n'}"
      ]
     },
     "execution_count": 2,
     "metadata": {},
     "output_type": "execute_result"
    }
   ],
   "source": [
    "housing = datasets.fetch_california_housing()\n",
    "housing"
   ]
  },
  {
   "cell_type": "code",
   "execution_count": 3,
   "id": "61b0044d",
   "metadata": {},
   "outputs": [],
   "source": [
    "df = pd.DataFrame(housing.data, columns=housing.feature_names)"
   ]
  },
  {
   "cell_type": "code",
   "execution_count": 4,
   "id": "592d2911",
   "metadata": {},
   "outputs": [
    {
     "data": {
      "application/vnd.microsoft.datawrangler.viewer.v0+json": {
       "columns": [
        {
         "name": "index",
         "rawType": "int64",
         "type": "integer"
        },
        {
         "name": "MedInc",
         "rawType": "float64",
         "type": "float"
        },
        {
         "name": "HouseAge",
         "rawType": "float64",
         "type": "float"
        },
        {
         "name": "AveRooms",
         "rawType": "float64",
         "type": "float"
        },
        {
         "name": "AveBedrms",
         "rawType": "float64",
         "type": "float"
        },
        {
         "name": "Population",
         "rawType": "float64",
         "type": "float"
        },
        {
         "name": "AveOccup",
         "rawType": "float64",
         "type": "float"
        },
        {
         "name": "Latitude",
         "rawType": "float64",
         "type": "float"
        },
        {
         "name": "Longitude",
         "rawType": "float64",
         "type": "float"
        }
       ],
       "ref": "b2c9bda5-6cdb-49c2-9952-89209d80bb9f",
       "rows": [
        [
         "0",
         "8.3252",
         "41.0",
         "6.984126984126984",
         "1.0238095238095237",
         "322.0",
         "2.5555555555555554",
         "37.88",
         "-122.23"
        ],
        [
         "1",
         "8.3014",
         "21.0",
         "6.238137082601054",
         "0.9718804920913884",
         "2401.0",
         "2.109841827768014",
         "37.86",
         "-122.22"
        ],
        [
         "2",
         "7.2574",
         "52.0",
         "8.288135593220339",
         "1.073446327683616",
         "496.0",
         "2.8022598870056497",
         "37.85",
         "-122.24"
        ],
        [
         "3",
         "5.6431",
         "52.0",
         "5.8173515981735155",
         "1.0730593607305936",
         "558.0",
         "2.547945205479452",
         "37.85",
         "-122.25"
        ],
        [
         "4",
         "3.8462",
         "52.0",
         "6.281853281853282",
         "1.0810810810810811",
         "565.0",
         "2.1814671814671813",
         "37.85",
         "-122.25"
        ]
       ],
       "shape": {
        "columns": 8,
        "rows": 5
       }
      },
      "text/html": [
       "<div>\n",
       "<style scoped>\n",
       "    .dataframe tbody tr th:only-of-type {\n",
       "        vertical-align: middle;\n",
       "    }\n",
       "\n",
       "    .dataframe tbody tr th {\n",
       "        vertical-align: top;\n",
       "    }\n",
       "\n",
       "    .dataframe thead th {\n",
       "        text-align: right;\n",
       "    }\n",
       "</style>\n",
       "<table border=\"1\" class=\"dataframe\">\n",
       "  <thead>\n",
       "    <tr style=\"text-align: right;\">\n",
       "      <th></th>\n",
       "      <th>MedInc</th>\n",
       "      <th>HouseAge</th>\n",
       "      <th>AveRooms</th>\n",
       "      <th>AveBedrms</th>\n",
       "      <th>Population</th>\n",
       "      <th>AveOccup</th>\n",
       "      <th>Latitude</th>\n",
       "      <th>Longitude</th>\n",
       "    </tr>\n",
       "  </thead>\n",
       "  <tbody>\n",
       "    <tr>\n",
       "      <th>0</th>\n",
       "      <td>8.3252</td>\n",
       "      <td>41.0</td>\n",
       "      <td>6.984127</td>\n",
       "      <td>1.023810</td>\n",
       "      <td>322.0</td>\n",
       "      <td>2.555556</td>\n",
       "      <td>37.88</td>\n",
       "      <td>-122.23</td>\n",
       "    </tr>\n",
       "    <tr>\n",
       "      <th>1</th>\n",
       "      <td>8.3014</td>\n",
       "      <td>21.0</td>\n",
       "      <td>6.238137</td>\n",
       "      <td>0.971880</td>\n",
       "      <td>2401.0</td>\n",
       "      <td>2.109842</td>\n",
       "      <td>37.86</td>\n",
       "      <td>-122.22</td>\n",
       "    </tr>\n",
       "    <tr>\n",
       "      <th>2</th>\n",
       "      <td>7.2574</td>\n",
       "      <td>52.0</td>\n",
       "      <td>8.288136</td>\n",
       "      <td>1.073446</td>\n",
       "      <td>496.0</td>\n",
       "      <td>2.802260</td>\n",
       "      <td>37.85</td>\n",
       "      <td>-122.24</td>\n",
       "    </tr>\n",
       "    <tr>\n",
       "      <th>3</th>\n",
       "      <td>5.6431</td>\n",
       "      <td>52.0</td>\n",
       "      <td>5.817352</td>\n",
       "      <td>1.073059</td>\n",
       "      <td>558.0</td>\n",
       "      <td>2.547945</td>\n",
       "      <td>37.85</td>\n",
       "      <td>-122.25</td>\n",
       "    </tr>\n",
       "    <tr>\n",
       "      <th>4</th>\n",
       "      <td>3.8462</td>\n",
       "      <td>52.0</td>\n",
       "      <td>6.281853</td>\n",
       "      <td>1.081081</td>\n",
       "      <td>565.0</td>\n",
       "      <td>2.181467</td>\n",
       "      <td>37.85</td>\n",
       "      <td>-122.25</td>\n",
       "    </tr>\n",
       "  </tbody>\n",
       "</table>\n",
       "</div>"
      ],
      "text/plain": [
       "   MedInc  HouseAge  AveRooms  AveBedrms  Population  AveOccup  Latitude  \\\n",
       "0  8.3252      41.0  6.984127   1.023810       322.0  2.555556     37.88   \n",
       "1  8.3014      21.0  6.238137   0.971880      2401.0  2.109842     37.86   \n",
       "2  7.2574      52.0  8.288136   1.073446       496.0  2.802260     37.85   \n",
       "3  5.6431      52.0  5.817352   1.073059       558.0  2.547945     37.85   \n",
       "4  3.8462      52.0  6.281853   1.081081       565.0  2.181467     37.85   \n",
       "\n",
       "   Longitude  \n",
       "0    -122.23  \n",
       "1    -122.22  \n",
       "2    -122.24  \n",
       "3    -122.25  \n",
       "4    -122.25  "
      ]
     },
     "execution_count": 4,
     "metadata": {},
     "output_type": "execute_result"
    }
   ],
   "source": [
    "df.head()"
   ]
  },
  {
   "cell_type": "code",
   "execution_count": 5,
   "id": "6375b2cd",
   "metadata": {},
   "outputs": [
    {
     "name": "stdout",
     "output_type": "stream",
     "text": [
      ".. _california_housing_dataset:\n",
      "\n",
      "California Housing dataset\n",
      "--------------------------\n",
      "\n",
      "**Data Set Characteristics:**\n",
      "\n",
      ":Number of Instances: 20640\n",
      "\n",
      ":Number of Attributes: 8 numeric, predictive attributes and the target\n",
      "\n",
      ":Attribute Information:\n",
      "    - MedInc        median income in block group\n",
      "    - HouseAge      median house age in block group\n",
      "    - AveRooms      average number of rooms per household\n",
      "    - AveBedrms     average number of bedrooms per household\n",
      "    - Population    block group population\n",
      "    - AveOccup      average number of household members\n",
      "    - Latitude      block group latitude\n",
      "    - Longitude     block group longitude\n",
      "\n",
      ":Missing Attribute Values: None\n",
      "\n",
      "This dataset was obtained from the StatLib repository.\n",
      "https://www.dcc.fc.up.pt/~ltorgo/Regression/cal_housing.html\n",
      "\n",
      "The target variable is the median house value for California districts,\n",
      "expressed in hundreds of thousands of dollars ($100,000).\n",
      "\n",
      "This dataset was derived from the 1990 U.S. census, using one row per census\n",
      "block group. A block group is the smallest geographical unit for which the U.S.\n",
      "Census Bureau publishes sample data (a block group typically has a population\n",
      "of 600 to 3,000 people).\n",
      "\n",
      "A household is a group of people residing within a home. Since the average\n",
      "number of rooms and bedrooms in this dataset are provided per household, these\n",
      "columns may take surprisingly large values for block groups with few households\n",
      "and many empty houses, such as vacation resorts.\n",
      "\n",
      "It can be downloaded/loaded using the\n",
      ":func:`sklearn.datasets.fetch_california_housing` function.\n",
      "\n",
      ".. rubric:: References\n",
      "\n",
      "- Pace, R. Kelley and Ronald Barry, Sparse Spatial Autoregressions,\n",
      "  Statistics and Probability Letters, 33:291-297, 1997.\n",
      "\n"
     ]
    }
   ],
   "source": [
    "print(housing.DESCR)"
   ]
  },
  {
   "cell_type": "code",
   "execution_count": 6,
   "id": "d1bda673",
   "metadata": {},
   "outputs": [],
   "source": [
    "dfTarget = pd.DataFrame(housing.target, columns=housing.target_names)"
   ]
  },
  {
   "cell_type": "code",
   "execution_count": 7,
   "id": "14267295",
   "metadata": {},
   "outputs": [
    {
     "data": {
      "application/vnd.microsoft.datawrangler.viewer.v0+json": {
       "columns": [
        {
         "name": "index",
         "rawType": "int64",
         "type": "integer"
        },
        {
         "name": "MedHouseVal",
         "rawType": "float64",
         "type": "float"
        }
       ],
       "ref": "c4d16eeb-b823-4050-ae68-615cf377271c",
       "rows": [
        [
         "0",
         "4.526"
        ],
        [
         "1",
         "3.585"
        ],
        [
         "2",
         "3.521"
        ],
        [
         "3",
         "3.413"
        ],
        [
         "4",
         "3.422"
        ]
       ],
       "shape": {
        "columns": 1,
        "rows": 5
       }
      },
      "text/html": [
       "<div>\n",
       "<style scoped>\n",
       "    .dataframe tbody tr th:only-of-type {\n",
       "        vertical-align: middle;\n",
       "    }\n",
       "\n",
       "    .dataframe tbody tr th {\n",
       "        vertical-align: top;\n",
       "    }\n",
       "\n",
       "    .dataframe thead th {\n",
       "        text-align: right;\n",
       "    }\n",
       "</style>\n",
       "<table border=\"1\" class=\"dataframe\">\n",
       "  <thead>\n",
       "    <tr style=\"text-align: right;\">\n",
       "      <th></th>\n",
       "      <th>MedHouseVal</th>\n",
       "    </tr>\n",
       "  </thead>\n",
       "  <tbody>\n",
       "    <tr>\n",
       "      <th>0</th>\n",
       "      <td>4.526</td>\n",
       "    </tr>\n",
       "    <tr>\n",
       "      <th>1</th>\n",
       "      <td>3.585</td>\n",
       "    </tr>\n",
       "    <tr>\n",
       "      <th>2</th>\n",
       "      <td>3.521</td>\n",
       "    </tr>\n",
       "    <tr>\n",
       "      <th>3</th>\n",
       "      <td>3.413</td>\n",
       "    </tr>\n",
       "    <tr>\n",
       "      <th>4</th>\n",
       "      <td>3.422</td>\n",
       "    </tr>\n",
       "  </tbody>\n",
       "</table>\n",
       "</div>"
      ],
      "text/plain": [
       "   MedHouseVal\n",
       "0        4.526\n",
       "1        3.585\n",
       "2        3.521\n",
       "3        3.413\n",
       "4        3.422"
      ]
     },
     "execution_count": 7,
     "metadata": {},
     "output_type": "execute_result"
    }
   ],
   "source": [
    "dfTarget.head()"
   ]
  },
  {
   "cell_type": "code",
   "execution_count": 8,
   "id": "7b067198",
   "metadata": {},
   "outputs": [],
   "source": [
    "X = df\n",
    "y = dfTarget"
   ]
  },
  {
   "cell_type": "code",
   "execution_count": 9,
   "id": "040bc29c",
   "metadata": {},
   "outputs": [],
   "source": [
    "X_train, X_test, y_train, y_test = train_test_split(X, y, test_size=0.2, random_state=42)"
   ]
  },
  {
   "cell_type": "code",
   "execution_count": 10,
   "id": "7a7f55a8",
   "metadata": {},
   "outputs": [
    {
     "data": {
      "application/vnd.microsoft.datawrangler.viewer.v0+json": {
       "columns": [
        {
         "name": "index",
         "rawType": "int64",
         "type": "integer"
        },
        {
         "name": "MedInc",
         "rawType": "float64",
         "type": "float"
        },
        {
         "name": "HouseAge",
         "rawType": "float64",
         "type": "float"
        },
        {
         "name": "AveRooms",
         "rawType": "float64",
         "type": "float"
        },
        {
         "name": "AveBedrms",
         "rawType": "float64",
         "type": "float"
        },
        {
         "name": "Population",
         "rawType": "float64",
         "type": "float"
        },
        {
         "name": "AveOccup",
         "rawType": "float64",
         "type": "float"
        },
        {
         "name": "Latitude",
         "rawType": "float64",
         "type": "float"
        },
        {
         "name": "Longitude",
         "rawType": "float64",
         "type": "float"
        }
       ],
       "ref": "b4fe8a19-0af5-4079-afc0-0304fa032840",
       "rows": [
        [
         "14196",
         "3.2596",
         "33.0",
         "5.017656500802568",
         "1.0064205457463884",
         "2300.0",
         "3.691813804173355",
         "32.71",
         "-117.03"
        ],
        [
         "8267",
         "3.8125",
         "49.0",
         "4.473544973544974",
         "1.041005291005291",
         "1314.0",
         "1.7380952380952381",
         "33.77",
         "-118.16"
        ],
        [
         "17445",
         "4.1563",
         "4.0",
         "5.645833333333333",
         "0.9851190476190477",
         "915.0",
         "2.7232142857142856",
         "34.66",
         "-120.48"
        ],
        [
         "14265",
         "1.9425",
         "36.0",
         "4.002816901408451",
         "1.0338028169014084",
         "1418.0",
         "3.9943661971830986",
         "32.69",
         "-117.11"
        ],
        [
         "2271",
         "3.5542",
         "43.0",
         "6.268421052631579",
         "1.1342105263157896",
         "874.0",
         "2.3",
         "36.78",
         "-119.8"
        ],
        [
         "17848",
         "6.6227",
         "20.0",
         "6.282147315855181",
         "1.0087390761548065",
         "2695.0",
         "3.3645443196004994",
         "37.42",
         "-121.86"
        ],
        [
         "6252",
         "2.5192",
         "28.0",
         "4.345360824742268",
         "1.074742268041237",
         "1355.0",
         "3.4922680412371134",
         "34.04",
         "-117.97"
        ],
        [
         "9389",
         "7.9892",
         "37.0",
         "6.052757793764988",
         "0.9544364508393285",
         "999.0",
         "2.3956834532374103",
         "37.91",
         "-122.53"
        ],
        [
         "6113",
         "1.5",
         "5.0",
         "3.620578778135048",
         "1.0160771704180065",
         "819.0",
         "2.6334405144694535",
         "34.13",
         "-117.9"
        ],
        [
         "6061",
         "6.4266",
         "5.0",
         "6.730284479654303",
         "1.0306085703997119",
         "9427.0",
         "3.394670507742168",
         "34.02",
         "-117.79"
        ],
        [
         "16030",
         "4.2167",
         "52.0",
         "5.742690058479532",
         "1.152046783625731",
         "653.0",
         "3.818713450292398",
         "37.72",
         "-122.45"
        ],
        [
         "8364",
         "2.2303",
         "25.0",
         "3.2417391304347825",
         "1.0713043478260869",
         "1710.0",
         "2.973913043478261",
         "33.97",
         "-118.35"
        ],
        [
         "9448",
         "2.875",
         "13.0",
         "6.490259740259741",
         "1.2175324675324675",
         "750.0",
         "2.435064935064935",
         "37.46",
         "-119.72"
        ],
        [
         "17529",
         "2.0972",
         "36.0",
         "3.0126582278481013",
         "1.0901898734177216",
         "3561.0",
         "5.6344936708860756",
         "37.33",
         "-121.88"
        ],
        [
         "5865",
         "2.8125",
         "46.0",
         "4.722033898305085",
         "1.0203389830508474",
         "714.0",
         "2.4203389830508475",
         "34.18",
         "-118.34"
        ],
        [
         "7615",
         "3.1667",
         "36.0",
         "5.054474708171206",
         "1.0",
         "1872.0",
         "3.642023346303502",
         "33.89",
         "-118.23"
        ],
        [
         "9707",
         "2.8924",
         "52.0",
         "5.355353075170843",
         "1.0455580865603644",
         "1169.0",
         "2.662870159453303",
         "36.67",
         "-121.65"
        ],
        [
         "16332",
         "4.4063",
         "20.0",
         "5.900560224089636",
         "1.0518207282913166",
         "2071.0",
         "2.9005602240896358",
         "38.03",
         "-121.34"
        ],
        [
         "3449",
         "4.233",
         "34.0",
         "4.9943609022556394",
         "0.9680451127819549",
         "1948.0",
         "3.661654135338346",
         "34.32",
         "-118.43"
        ],
        [
         "5199",
         "1.4329",
         "21.0",
         "3.0577617328519855",
         "1.0036101083032491",
         "1283.0",
         "4.631768953068592",
         "33.93",
         "-118.28"
        ],
        [
         "13496",
         "2.1935",
         "31.0",
         "4.794029850746269",
         "1.0567164179104478",
         "1049.0",
         "3.1313432835820896",
         "34.16",
         "-117.34"
        ],
        [
         "18056",
         "8.5425",
         "35.0",
         "7.508403361344538",
         "1.01890756302521",
         "1325.0",
         "2.783613445378151",
         "37.24",
         "-121.98"
        ],
        [
         "9529",
         "2.7171",
         "22.0",
         "6.0418994413407825",
         "1.217877094972067",
         "1048.0",
         "2.9273743016759775",
         "38.94",
         "-123.15"
        ],
        [
         "5128",
         "1.575",
         "43.0",
         "3.987138263665595",
         "1.0032154340836013",
         "1100.0",
         "3.536977491961415",
         "33.98",
         "-118.28"
        ],
        [
         "18796",
         "2.2583",
         "18.0",
         "7.046728971962617",
         "1.5046728971962617",
         "247.0",
         "2.308411214953271",
         "40.89",
         "-122.31"
        ],
        [
         "413",
         "5.4171",
         "52.0",
         "6.764705882352941",
         "1.0751633986928104",
         "722.0",
         "2.3594771241830066",
         "37.89",
         "-122.28"
        ],
        [
         "1175",
         "0.8252",
         "15.0",
         "5.05",
         "1.35",
         "145.0",
         "3.625",
         "39.48",
         "-121.57"
        ],
        [
         "4387",
         "3.5039",
         "46.0",
         "3.75",
         "0.9920634920634921",
         "910.0",
         "3.611111111111111",
         "34.08",
         "-118.26"
        ],
        [
         "11628",
         "3.8792",
         "22.0",
         "4.715254237288136",
         "1.1457627118644067",
         "810.0",
         "2.7457627118644066",
         "33.8",
         "-118.07"
        ],
        [
         "9787",
         "2.4881",
         "29.0",
         "6.101910828025478",
         "1.2292993630573248",
         "1019.0",
         "3.245222929936306",
         "36.06",
         "-120.79"
        ],
        [
         "15557",
         "2.7216",
         "32.0",
         "5.366594360086768",
         "1.0824295010845988",
         "1224.0",
         "2.6550976138828633",
         "33.12",
         "-117.07"
        ],
        [
         "9132",
         "4.071",
         "2.0",
         "6.28139534883721",
         "1.2325581395348837",
         "1368.0",
         "3.181395348837209",
         "34.55",
         "-118.01"
        ],
        [
         "5514",
         "2.825",
         "39.0",
         "4.530898876404494",
         "1.0674157303370786",
         "1113.0",
         "3.1264044943820224",
         "33.99",
         "-118.4"
        ],
        [
         "6504",
         "2.5119",
         "37.0",
         "3.9292929292929295",
         "1.0353535353535352",
         "850.0",
         "4.292929292929293",
         "34.08",
         "-118.06"
        ],
        [
         "15028",
         "3.4421",
         "31.0",
         "4.725907384230288",
         "1.0200250312891115",
         "1886.0",
         "2.360450563204005",
         "32.79",
         "-117.01"
        ],
        [
         "7816",
         "3.5893",
         "35.0",
         "5.966911764705882",
         "1.1176470588235294",
         "868.0",
         "3.1911764705882355",
         "33.88",
         "-118.11"
        ],
        [
         "18758",
         "2.0119",
         "17.0",
         "5.388781431334623",
         "1.081237911025145",
         "1528.0",
         "2.955512572533849",
         "40.66",
         "-122.36"
        ],
        [
         "7369",
         "3.1901",
         "52.0",
         "4.7309417040358746",
         "1.0179372197309418",
         "3731.0",
         "4.182735426008969",
         "33.97",
         "-118.21"
        ],
        [
         "7898",
         "5.0778",
         "16.0",
         "6.274356103023516",
         "1.0503919372900337",
         "3045.0",
         "3.4098544232922734",
         "33.86",
         "-118.06"
        ],
        [
         "10823",
         "0.9702",
         "28.0",
         "2.5576470588235294",
         "0.9952941176470588",
         "807.0",
         "1.8988235294117648",
         "33.65",
         "-117.92"
        ],
        [
         "5252",
         "11.1978",
         "32.0",
         "7.270343580470163",
         "1.0316455696202531",
         "2768.0",
         "2.5027124773960217",
         "34.1",
         "-118.47"
        ],
        [
         "6442",
         "3.94",
         "31.0",
         "5.0903846153846155",
         "1.0365384615384616",
         "1473.0",
         "2.832692307692308",
         "34.1",
         "-118.03"
        ],
        [
         "11934",
         "4.0156",
         "35.0",
         "6.1953125",
         "1.171875",
         "669.0",
         "5.2265625",
         "33.93",
         "-117.41"
        ],
        [
         "5549",
         "6.019",
         "42.0",
         "5.7024539877300615",
         "1.0337423312883436",
         "813.0",
         "2.4938650306748467",
         "33.97",
         "-118.38"
        ],
        [
         "11568",
         "3.6289",
         "25.0",
         "4.568831168831169",
         "1.0493506493506493",
         "1404.0",
         "3.6467532467532466",
         "33.76",
         "-118.02"
        ],
        [
         "15167",
         "3.2369",
         "17.0",
         "4.465677179962894",
         "1.0120593692022264",
         "3013.0",
         "2.7949907235621523",
         "32.95",
         "-117.05"
        ],
        [
         "12536",
         "2.8417",
         "45.0",
         "5.078726968174204",
         "1.0569514237855946",
         "1341.0",
         "2.2462311557788945",
         "38.55",
         "-121.51"
        ],
        [
         "7779",
         "3.1957",
         "29.0",
         "4.355839416058394",
         "1.0401459854014599",
         "1978.0",
         "3.6094890510948905",
         "33.91",
         "-118.07"
        ],
        [
         "10711",
         "3.1131",
         "25.0",
         "4.751798561151079",
         "1.0611510791366907",
         "396.0",
         "1.4244604316546763",
         "33.6",
         "-117.7"
        ],
        [
         "6624",
         "4.0524",
         "52.0",
         "5.291666666666667",
         "0.9642857142857143",
         "1681.0",
         "3.3353174603174605",
         "34.17",
         "-118.14"
        ]
       ],
       "shape": {
        "columns": 8,
        "rows": 16512
       }
      },
      "text/html": [
       "<div>\n",
       "<style scoped>\n",
       "    .dataframe tbody tr th:only-of-type {\n",
       "        vertical-align: middle;\n",
       "    }\n",
       "\n",
       "    .dataframe tbody tr th {\n",
       "        vertical-align: top;\n",
       "    }\n",
       "\n",
       "    .dataframe thead th {\n",
       "        text-align: right;\n",
       "    }\n",
       "</style>\n",
       "<table border=\"1\" class=\"dataframe\">\n",
       "  <thead>\n",
       "    <tr style=\"text-align: right;\">\n",
       "      <th></th>\n",
       "      <th>MedInc</th>\n",
       "      <th>HouseAge</th>\n",
       "      <th>AveRooms</th>\n",
       "      <th>AveBedrms</th>\n",
       "      <th>Population</th>\n",
       "      <th>AveOccup</th>\n",
       "      <th>Latitude</th>\n",
       "      <th>Longitude</th>\n",
       "    </tr>\n",
       "  </thead>\n",
       "  <tbody>\n",
       "    <tr>\n",
       "      <th>14196</th>\n",
       "      <td>3.2596</td>\n",
       "      <td>33.0</td>\n",
       "      <td>5.017657</td>\n",
       "      <td>1.006421</td>\n",
       "      <td>2300.0</td>\n",
       "      <td>3.691814</td>\n",
       "      <td>32.71</td>\n",
       "      <td>-117.03</td>\n",
       "    </tr>\n",
       "    <tr>\n",
       "      <th>8267</th>\n",
       "      <td>3.8125</td>\n",
       "      <td>49.0</td>\n",
       "      <td>4.473545</td>\n",
       "      <td>1.041005</td>\n",
       "      <td>1314.0</td>\n",
       "      <td>1.738095</td>\n",
       "      <td>33.77</td>\n",
       "      <td>-118.16</td>\n",
       "    </tr>\n",
       "    <tr>\n",
       "      <th>17445</th>\n",
       "      <td>4.1563</td>\n",
       "      <td>4.0</td>\n",
       "      <td>5.645833</td>\n",
       "      <td>0.985119</td>\n",
       "      <td>915.0</td>\n",
       "      <td>2.723214</td>\n",
       "      <td>34.66</td>\n",
       "      <td>-120.48</td>\n",
       "    </tr>\n",
       "    <tr>\n",
       "      <th>14265</th>\n",
       "      <td>1.9425</td>\n",
       "      <td>36.0</td>\n",
       "      <td>4.002817</td>\n",
       "      <td>1.033803</td>\n",
       "      <td>1418.0</td>\n",
       "      <td>3.994366</td>\n",
       "      <td>32.69</td>\n",
       "      <td>-117.11</td>\n",
       "    </tr>\n",
       "    <tr>\n",
       "      <th>2271</th>\n",
       "      <td>3.5542</td>\n",
       "      <td>43.0</td>\n",
       "      <td>6.268421</td>\n",
       "      <td>1.134211</td>\n",
       "      <td>874.0</td>\n",
       "      <td>2.300000</td>\n",
       "      <td>36.78</td>\n",
       "      <td>-119.80</td>\n",
       "    </tr>\n",
       "    <tr>\n",
       "      <th>...</th>\n",
       "      <td>...</td>\n",
       "      <td>...</td>\n",
       "      <td>...</td>\n",
       "      <td>...</td>\n",
       "      <td>...</td>\n",
       "      <td>...</td>\n",
       "      <td>...</td>\n",
       "      <td>...</td>\n",
       "    </tr>\n",
       "    <tr>\n",
       "      <th>11284</th>\n",
       "      <td>6.3700</td>\n",
       "      <td>35.0</td>\n",
       "      <td>6.129032</td>\n",
       "      <td>0.926267</td>\n",
       "      <td>658.0</td>\n",
       "      <td>3.032258</td>\n",
       "      <td>33.78</td>\n",
       "      <td>-117.96</td>\n",
       "    </tr>\n",
       "    <tr>\n",
       "      <th>11964</th>\n",
       "      <td>3.0500</td>\n",
       "      <td>33.0</td>\n",
       "      <td>6.868597</td>\n",
       "      <td>1.269488</td>\n",
       "      <td>1753.0</td>\n",
       "      <td>3.904232</td>\n",
       "      <td>34.02</td>\n",
       "      <td>-117.43</td>\n",
       "    </tr>\n",
       "    <tr>\n",
       "      <th>5390</th>\n",
       "      <td>2.9344</td>\n",
       "      <td>36.0</td>\n",
       "      <td>3.986717</td>\n",
       "      <td>1.079696</td>\n",
       "      <td>1756.0</td>\n",
       "      <td>3.332068</td>\n",
       "      <td>34.03</td>\n",
       "      <td>-118.38</td>\n",
       "    </tr>\n",
       "    <tr>\n",
       "      <th>860</th>\n",
       "      <td>5.7192</td>\n",
       "      <td>15.0</td>\n",
       "      <td>6.395349</td>\n",
       "      <td>1.067979</td>\n",
       "      <td>1777.0</td>\n",
       "      <td>3.178891</td>\n",
       "      <td>37.58</td>\n",
       "      <td>-121.96</td>\n",
       "    </tr>\n",
       "    <tr>\n",
       "      <th>15795</th>\n",
       "      <td>2.5755</td>\n",
       "      <td>52.0</td>\n",
       "      <td>3.402576</td>\n",
       "      <td>1.058776</td>\n",
       "      <td>2619.0</td>\n",
       "      <td>2.108696</td>\n",
       "      <td>37.77</td>\n",
       "      <td>-122.42</td>\n",
       "    </tr>\n",
       "  </tbody>\n",
       "</table>\n",
       "<p>16512 rows × 8 columns</p>\n",
       "</div>"
      ],
      "text/plain": [
       "       MedInc  HouseAge  AveRooms  AveBedrms  Population  AveOccup  Latitude  \\\n",
       "14196  3.2596      33.0  5.017657   1.006421      2300.0  3.691814     32.71   \n",
       "8267   3.8125      49.0  4.473545   1.041005      1314.0  1.738095     33.77   \n",
       "17445  4.1563       4.0  5.645833   0.985119       915.0  2.723214     34.66   \n",
       "14265  1.9425      36.0  4.002817   1.033803      1418.0  3.994366     32.69   \n",
       "2271   3.5542      43.0  6.268421   1.134211       874.0  2.300000     36.78   \n",
       "...       ...       ...       ...        ...         ...       ...       ...   \n",
       "11284  6.3700      35.0  6.129032   0.926267       658.0  3.032258     33.78   \n",
       "11964  3.0500      33.0  6.868597   1.269488      1753.0  3.904232     34.02   \n",
       "5390   2.9344      36.0  3.986717   1.079696      1756.0  3.332068     34.03   \n",
       "860    5.7192      15.0  6.395349   1.067979      1777.0  3.178891     37.58   \n",
       "15795  2.5755      52.0  3.402576   1.058776      2619.0  2.108696     37.77   \n",
       "\n",
       "       Longitude  \n",
       "14196    -117.03  \n",
       "8267     -118.16  \n",
       "17445    -120.48  \n",
       "14265    -117.11  \n",
       "2271     -119.80  \n",
       "...          ...  \n",
       "11284    -117.96  \n",
       "11964    -117.43  \n",
       "5390     -118.38  \n",
       "860      -121.96  \n",
       "15795    -122.42  \n",
       "\n",
       "[16512 rows x 8 columns]"
      ]
     },
     "execution_count": 10,
     "metadata": {},
     "output_type": "execute_result"
    }
   ],
   "source": [
    "X_train"
   ]
  },
  {
   "cell_type": "code",
   "execution_count": 11,
   "id": "3603c7e2",
   "metadata": {},
   "outputs": [
    {
     "data": {
      "application/vnd.microsoft.datawrangler.viewer.v0+json": {
       "columns": [
        {
         "name": "index",
         "rawType": "int64",
         "type": "integer"
        },
        {
         "name": "MedHouseVal",
         "rawType": "float64",
         "type": "float"
        }
       ],
       "ref": "e76570f2-9df5-450a-8f8c-3e0fb439556d",
       "rows": [
        [
         "14196",
         "1.03"
        ],
        [
         "8267",
         "3.821"
        ],
        [
         "17445",
         "1.726"
        ],
        [
         "14265",
         "0.934"
        ],
        [
         "2271",
         "0.965"
        ],
        [
         "17848",
         "2.648"
        ],
        [
         "6252",
         "1.573"
        ],
        [
         "9389",
         "5.00001"
        ],
        [
         "6113",
         "1.398"
        ],
        [
         "6061",
         "3.156"
        ],
        [
         "16030",
         "2.319"
        ],
        [
         "8364",
         "1.594"
        ],
        [
         "9448",
         "0.96"
        ],
        [
         "17529",
         "1.875"
        ],
        [
         "5865",
         "2.299"
        ],
        [
         "7615",
         "1.177"
        ],
        [
         "9707",
         "1.696"
        ],
        [
         "16332",
         "1.308"
        ],
        [
         "3449",
         "1.574"
        ],
        [
         "5199",
         "0.941"
        ],
        [
         "13496",
         "0.727"
        ],
        [
         "18056",
         "5.00001"
        ],
        [
         "9529",
         "0.958"
        ],
        [
         "5128",
         "0.975"
        ],
        [
         "18796",
         "0.788"
        ],
        [
         "413",
         "2.92"
        ],
        [
         "1175",
         "0.425"
        ],
        [
         "4387",
         "1.875"
        ],
        [
         "11628",
         "2.182"
        ],
        [
         "9787",
         "0.875"
        ],
        [
         "15557",
         "1.463"
        ],
        [
         "9132",
         "1.374"
        ],
        [
         "5514",
         "2.767"
        ],
        [
         "6504",
         "1.805"
        ],
        [
         "15028",
         "1.553"
        ],
        [
         "7816",
         "2.76"
        ],
        [
         "18758",
         "0.758"
        ],
        [
         "7369",
         "1.676"
        ],
        [
         "7898",
         "2.937"
        ],
        [
         "10823",
         "2.254"
        ],
        [
         "5252",
         "5.00001"
        ],
        [
         "6442",
         "2.239"
        ],
        [
         "11934",
         "0.893"
        ],
        [
         "5549",
         "2.945"
        ],
        [
         "11568",
         "1.958"
        ],
        [
         "15167",
         "1.678"
        ],
        [
         "12536",
         "1.379"
        ],
        [
         "7779",
         "1.592"
        ],
        [
         "10711",
         "0.771"
        ],
        [
         "6624",
         "1.731"
        ]
       ],
       "shape": {
        "columns": 1,
        "rows": 16512
       }
      },
      "text/html": [
       "<div>\n",
       "<style scoped>\n",
       "    .dataframe tbody tr th:only-of-type {\n",
       "        vertical-align: middle;\n",
       "    }\n",
       "\n",
       "    .dataframe tbody tr th {\n",
       "        vertical-align: top;\n",
       "    }\n",
       "\n",
       "    .dataframe thead th {\n",
       "        text-align: right;\n",
       "    }\n",
       "</style>\n",
       "<table border=\"1\" class=\"dataframe\">\n",
       "  <thead>\n",
       "    <tr style=\"text-align: right;\">\n",
       "      <th></th>\n",
       "      <th>MedHouseVal</th>\n",
       "    </tr>\n",
       "  </thead>\n",
       "  <tbody>\n",
       "    <tr>\n",
       "      <th>14196</th>\n",
       "      <td>1.030</td>\n",
       "    </tr>\n",
       "    <tr>\n",
       "      <th>8267</th>\n",
       "      <td>3.821</td>\n",
       "    </tr>\n",
       "    <tr>\n",
       "      <th>17445</th>\n",
       "      <td>1.726</td>\n",
       "    </tr>\n",
       "    <tr>\n",
       "      <th>14265</th>\n",
       "      <td>0.934</td>\n",
       "    </tr>\n",
       "    <tr>\n",
       "      <th>2271</th>\n",
       "      <td>0.965</td>\n",
       "    </tr>\n",
       "    <tr>\n",
       "      <th>...</th>\n",
       "      <td>...</td>\n",
       "    </tr>\n",
       "    <tr>\n",
       "      <th>11284</th>\n",
       "      <td>2.292</td>\n",
       "    </tr>\n",
       "    <tr>\n",
       "      <th>11964</th>\n",
       "      <td>0.978</td>\n",
       "    </tr>\n",
       "    <tr>\n",
       "      <th>5390</th>\n",
       "      <td>2.221</td>\n",
       "    </tr>\n",
       "    <tr>\n",
       "      <th>860</th>\n",
       "      <td>2.835</td>\n",
       "    </tr>\n",
       "    <tr>\n",
       "      <th>15795</th>\n",
       "      <td>3.250</td>\n",
       "    </tr>\n",
       "  </tbody>\n",
       "</table>\n",
       "<p>16512 rows × 1 columns</p>\n",
       "</div>"
      ],
      "text/plain": [
       "       MedHouseVal\n",
       "14196        1.030\n",
       "8267         3.821\n",
       "17445        1.726\n",
       "14265        0.934\n",
       "2271         0.965\n",
       "...            ...\n",
       "11284        2.292\n",
       "11964        0.978\n",
       "5390         2.221\n",
       "860          2.835\n",
       "15795        3.250\n",
       "\n",
       "[16512 rows x 1 columns]"
      ]
     },
     "execution_count": 11,
     "metadata": {},
     "output_type": "execute_result"
    }
   ],
   "source": [
    "y_train"
   ]
  },
  {
   "cell_type": "code",
   "execution_count": 12,
   "id": "5842f0ba",
   "metadata": {},
   "outputs": [],
   "source": [
    "scaler = StandardScaler()"
   ]
  },
  {
   "cell_type": "code",
   "execution_count": 13,
   "id": "cb795532",
   "metadata": {},
   "outputs": [],
   "source": [
    "X_train_Scaled = scaler.fit_transform(X_train)\n",
    "X_test_Scaled = scaler.fit_transform(X_test)"
   ]
  },
  {
   "cell_type": "code",
   "execution_count": 14,
   "id": "88d913bb",
   "metadata": {},
   "outputs": [
    {
     "data": {
      "text/plain": [
       "array([[-0.326196  ,  0.34849025, -0.17491646, ...,  0.05137609,\n",
       "        -1.3728112 ,  1.27258656],\n",
       "       [-0.03584338,  1.61811813, -0.40283542, ..., -0.11736222,\n",
       "        -0.87669601,  0.70916212],\n",
       "       [ 0.14470145, -1.95271028,  0.08821601, ..., -0.03227969,\n",
       "        -0.46014647, -0.44760309],\n",
       "       ...,\n",
       "       [-0.49697313,  0.58654547, -0.60675918, ...,  0.02030568,\n",
       "        -0.75500738,  0.59946887],\n",
       "       [ 0.96545045, -1.07984112,  0.40217517, ...,  0.00707608,\n",
       "         0.90651045, -1.18553953],\n",
       "       [-0.68544764,  1.85617335, -0.85144571, ..., -0.08535429,\n",
       "         0.99543676, -1.41489815]], shape=(16512, 8))"
      ]
     },
     "execution_count": 14,
     "metadata": {},
     "output_type": "execute_result"
    }
   ],
   "source": [
    "X_train_Scaled"
   ]
  },
  {
   "cell_type": "code",
   "execution_count": 15,
   "id": "452a969c",
   "metadata": {},
   "outputs": [],
   "source": [
    "reg = LinearRegression().fit(X_train_Scaled, y_train)"
   ]
  },
  {
   "cell_type": "code",
   "execution_count": 16,
   "id": "112eeda3",
   "metadata": {},
   "outputs": [],
   "source": [
    "results = reg.predict(X_test_Scaled)"
   ]
  },
  {
   "cell_type": "code",
   "execution_count": 17,
   "id": "a3b64c27",
   "metadata": {},
   "outputs": [
    {
     "data": {
      "text/plain": [
       "array([[0.70298353],\n",
       "       [1.75471768],\n",
       "       [2.72096393],\n",
       "       ...,\n",
       "       [4.59369185],\n",
       "       [1.23349985],\n",
       "       [1.99958305]], shape=(4128, 1))"
      ]
     },
     "execution_count": 17,
     "metadata": {},
     "output_type": "execute_result"
    }
   ],
   "source": [
    "results"
   ]
  },
  {
   "cell_type": "code",
   "execution_count": 18,
   "id": "566df6ea",
   "metadata": {},
   "outputs": [
    {
     "data": {
      "text/plain": [
       "0.5887810596909611"
      ]
     },
     "execution_count": 18,
     "metadata": {},
     "output_type": "execute_result"
    }
   ],
   "source": [
    "reg.score(X_test_Scaled, y_test)"
   ]
  }
 ],
 "metadata": {
  "kernelspec": {
   "display_name": "3.13.8",
   "language": "python",
   "name": "python3"
  },
  "language_info": {
   "codemirror_mode": {
    "name": "ipython",
    "version": 3
   },
   "file_extension": ".py",
   "mimetype": "text/x-python",
   "name": "python",
   "nbconvert_exporter": "python",
   "pygments_lexer": "ipython3",
   "version": "3.13.8"
  }
 },
 "nbformat": 4,
 "nbformat_minor": 5
}
